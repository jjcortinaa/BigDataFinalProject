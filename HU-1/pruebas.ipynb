{
 "cells": [
  {
   "cell_type": "code",
   "execution_count": 18,
   "metadata": {},
   "outputs": [],
   "source": [
    "from TradingviewData import TradingViewData,Interval\n",
    "import os\n"
   ]
  },
  {
   "cell_type": "code",
   "execution_count": 19,
   "metadata": {},
   "outputs": [],
   "source": [
    "import pandas as pd\n",
    "import os\n",
    "\n",
    "list_cryptos = ['BTCUSD', 'ETHUSD', 'XRPUSD', 'SOLUSD', 'DOGEUSD', 'ADAUSD', 'SHIBUSD', 'DOTUSD', 'AAVEUSD', 'XLMUSD']\n",
    "years = [2021, 2022, 2023, 2024]\n",
    "months = [1, 2, 3, 4, 5, 6, 7, 8, 9, 10, 11, 12]\n",
    "\n",
    "for crypto in list_cryptos:\n",
    "    data = request.get_hist(symbol=crypto, exchange='CRYPTO', interval=Interval.daily, n_bars=1600).reset_index()\n",
    "    \n",
    "    for year in years:\n",
    "        for month in months:\n",
    "            # Filtrar los datos por año y mes\n",
    "            data_clone = data[(data['datetime'].dt.year == year) & (data['datetime'].dt.month == month)]\n",
    "            \n",
    "            # Crear la ruta del archivo\n",
    "            file_path = f'C:/Users/pablo/OneDrive/Escritorio/iMat/iMat 3/segundo cuatri/big data/TradingView-Data/{crypto}/{year}/{month}/{crypto}{year}{month}.csv'\n",
    "            \n",
    "            # Crear los directorios si no existen\n",
    "            os.makedirs(os.path.dirname(file_path), exist_ok=True)\n",
    "            \n",
    "            # Guardar los datos en un archivo CSV\n",
    "            data_clone.to_csv(file_path, index=False)\n"
   ]
  },
  {
   "cell_type": "code",
   "execution_count": 20,
   "metadata": {},
   "outputs": [
    {
     "name": "stdout",
     "output_type": "stream",
     "text": [
      "                datetime         symbol      open      high       low  \\\n",
      "0    2020-09-13 02:00:00  CRYPTO:XLMUSD  0.083801  0.084542  0.079086   \n",
      "1    2020-09-14 02:00:00  CRYPTO:XLMUSD  0.079993  0.081995  0.078884   \n",
      "2    2020-09-15 02:00:00  CRYPTO:XLMUSD  0.080206  0.081518  0.077658   \n",
      "3    2020-09-16 02:00:00  CRYPTO:XLMUSD  0.077748  0.081337  0.075174   \n",
      "4    2020-09-17 02:00:00  CRYPTO:XLMUSD  0.080065  0.082240  0.078068   \n",
      "...                  ...            ...       ...       ...       ...   \n",
      "1595 2025-01-25 01:00:00  CRYPTO:XLMUSD  0.430890  0.436880  0.413120   \n",
      "1596 2025-01-26 01:00:00  CRYPTO:XLMUSD  0.417070  0.426150  0.405940   \n",
      "1597 2025-01-27 01:00:00  CRYPTO:XLMUSD  0.406240  0.409770  0.363350   \n",
      "1598 2025-01-28 01:00:00  CRYPTO:XLMUSD  0.407330  0.420880  0.390140   \n",
      "1599 2025-01-29 01:00:00  CRYPTO:XLMUSD  0.392780  0.403420  0.387300   \n",
      "\n",
      "         close  volume  \n",
      "0     0.080011     0.0  \n",
      "1     0.080189     0.0  \n",
      "2     0.077802     0.0  \n",
      "3     0.080056     0.0  \n",
      "4     0.080478     0.0  \n",
      "...        ...     ...  \n",
      "1595  0.417070     0.0  \n",
      "1596  0.406240     0.0  \n",
      "1597  0.407330     0.0  \n",
      "1598  0.392780     0.0  \n",
      "1599  0.390110     0.0  \n",
      "\n",
      "[1600 rows x 7 columns]\n"
     ]
    }
   ],
   "source": [
    "print(data)"
   ]
  }
 ],
 "metadata": {
  "kernelspec": {
   "display_name": "Python 3",
   "language": "python",
   "name": "python3"
  },
  "language_info": {
   "codemirror_mode": {
    "name": "ipython",
    "version": 3
   },
   "file_extension": ".py",
   "mimetype": "text/x-python",
   "name": "python",
   "nbconvert_exporter": "python",
   "pygments_lexer": "ipython3",
   "version": "3.11.7"
  }
 },
 "nbformat": 4,
 "nbformat_minor": 2
}
