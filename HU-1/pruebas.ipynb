{
 "cells": [
  {
   "cell_type": "code",
   "execution_count": 3,
   "metadata": {},
   "outputs": [],
   "source": [
    "from TradingviewData import TradingViewData,Interval\n",
    "import os\n",
    "\n",
    "request = TradingViewData()"
   ]
  },
  {
   "cell_type": "code",
   "execution_count": null,
   "metadata": {},
   "outputs": [],
   "source": [
    "import pandas as pd\n",
    "import os\n",
    "\n",
    "list_cryptos = ['BTCUSD', 'ETHUSD', 'XRPUSD', 'SOLUSD', 'DOGEUSD', 'ADAUSD', 'SHIBUSD', 'DOTUSD', 'AAVEUSD', 'XLMUSD']\n",
    "years = [2021, 2022, 2023, 2024]\n",
    "months = [1, 2, 3, 4, 5, 6, 7, 8, 9, 10, 11, 12]\n",
    "\n",
    "for crypto in list_cryptos:\n",
    "    data = request.get_hist(symbol=crypto, exchange='CRYPTO', interval=Interval.daily, n_bars=1600).reset_index()\n",
    "    \n",
    "    for year in years:\n",
    "        for month in months:\n",
    "            # Filtrar los datos por año y mes\n",
    "            data_clone = data[(data['datetime'].dt.year == year) & (data['datetime'].dt.month == month)]\n",
    "            \n",
    "            # Crear la ruta del archivo\n",
    "            file_path = f'csvs/{crypto}/{year}/{month}/{crypto}{year}{month}.csv'\n",
    "            \n",
    "            # Crear los directorios si no existen\n",
    "            os.makedirs(os.path.dirname(file_path), exist_ok=True)\n",
    "            \n",
    "            # Guardar los datos en un archivo CSV\n",
    "            data_clone.to_csv(file_path, index=False)\n"
   ]
  },
  {
   "cell_type": "code",
   "execution_count": 5,
   "metadata": {},
   "outputs": [
    {
     "name": "stdout",
     "output_type": "stream",
     "text": [
      "                datetime         symbol      open      high       low  \\\n",
      "0    2020-09-19 02:00:00  CRYPTO:XLMUSD  0.078211  0.079406  0.077184   \n",
      "1    2020-09-20 02:00:00  CRYPTO:XLMUSD  0.078494  0.078498  0.075252   \n",
      "2    2020-09-21 02:00:00  CRYPTO:XLMUSD  0.076960  0.077322  0.069065   \n",
      "3    2020-09-22 02:00:00  CRYPTO:XLMUSD  0.069966  0.072232  0.069572   \n",
      "4    2020-09-23 02:00:00  CRYPTO:XLMUSD  0.071545  0.072254  0.067131   \n",
      "...                  ...            ...       ...       ...       ...   \n",
      "1595 2025-01-31 01:00:00  CRYPTO:XLMUSD  0.428660  0.429880  0.407440   \n",
      "1596 2025-02-01 01:00:00  CRYPTO:XLMUSD  0.414190  0.420210  0.388680   \n",
      "1597 2025-02-02 01:00:00  CRYPTO:XLMUSD  0.392110  0.401170  0.335830   \n",
      "1598 2025-02-03 01:00:00  CRYPTO:XLMUSD  0.353780  0.372280  0.261660   \n",
      "1599 2025-02-04 01:00:00  CRYPTO:XLMUSD  0.370300  0.375360  0.336290   \n",
      "\n",
      "         close  volume  \n",
      "0     0.078469     0.0  \n",
      "1     0.076971     0.0  \n",
      "2     0.069922     0.0  \n",
      "3     0.071550     0.0  \n",
      "4     0.067284     0.0  \n",
      "...        ...     ...  \n",
      "1595  0.414220     0.0  \n",
      "1596  0.392110     0.0  \n",
      "1597  0.353780     0.0  \n",
      "1598  0.370310     0.0  \n",
      "1599  0.353270     0.0  \n",
      "\n",
      "[1600 rows x 7 columns]\n"
     ]
    }
   ],
   "source": [
    "print(data)"
   ]
  }
 ],
 "metadata": {
  "kernelspec": {
   "display_name": "Python 3",
   "language": "python",
   "name": "python3"
  },
  "language_info": {
   "codemirror_mode": {
    "name": "ipython",
    "version": 3
   },
   "file_extension": ".py",
   "mimetype": "text/x-python",
   "name": "python",
   "nbconvert_exporter": "python",
   "pygments_lexer": "ipython3",
   "version": "3.11.7"
  }
 },
 "nbformat": 4,
 "nbformat_minor": 2
}
